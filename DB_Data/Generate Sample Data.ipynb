{
 "cells": [
  {
   "cell_type": "code",
   "execution_count": 1,
   "id": "75034e0d",
   "metadata": {},
   "outputs": [],
   "source": [
    "from pymongo import MongoClient\n",
    "from datetime import datetime, timedelta\n",
    "from faker import Faker\n",
    "import faker_commerce\n",
    "import random"
   ]
  },
  {
   "cell_type": "markdown",
   "id": "f26e02e1",
   "metadata": {},
   "source": [
    "# Generate Users"
   ]
  },
  {
   "cell_type": "code",
   "execution_count": 2,
   "id": "246bf2c3",
   "metadata": {},
   "outputs": [
    {
     "name": "stdout",
     "output_type": "stream",
     "text": [
      "[\n",
      "{\n",
      "UserName: \"user1\",\n",
      "Password: \"pass1\",\n",
      "Mail: \"user1@mail.com\"\n",
      "}\n",
      ",{\n",
      "UserName: \"user2\",\n",
      "Password: \"pass2\",\n",
      "Mail: \"user2@mail.com\"\n",
      "}\n",
      ",{\n",
      "UserName: \"user3\",\n",
      "Password: \"pass3\",\n",
      "Mail: \"user3@mail.com\"\n",
      "}\n",
      ",{\n",
      "UserName: \"user4\",\n",
      "Password: \"pass4\",\n",
      "Mail: \"user4@mail.com\"\n",
      "}\n",
      ",{\n",
      "UserName: \"user5\",\n",
      "Password: \"pass5\",\n",
      "Mail: \"user5@mail.com\"\n",
      "}\n",
      "]\n"
     ]
    }
   ],
   "source": [
    "users_num = 5\n",
    "print(\"[\")\n",
    "for i in range(1,users_num+1):\n",
    "    if i > 1:\n",
    "        print(\",\",end='')\n",
    "    print(\"{\")\n",
    "    print(f\"UserName: \\\"user{i}\\\",\")\n",
    "    print(f\"Password: \\\"pass{i}\\\",\")\n",
    "    print(f\"Mail: \\\"user{i}@mail.com\\\"\")\n",
    "    print(\"}\")\n",
    "print(\"]\")"
   ]
  },
  {
   "cell_type": "markdown",
   "id": "3469a92d",
   "metadata": {},
   "source": [
    "# Generate Coupons (not coherent output - should use AI solutions)"
   ]
  },
  {
   "cell_type": "code",
   "execution_count": 29,
   "id": "82d8e4e1",
   "metadata": {
    "scrolled": true
   },
   "outputs": [],
   "source": [
    "fake = Faker()\n",
    "fake.add_provider(faker_commerce.Provider)\n",
    "\n",
    "# Function to generate random coupons\n",
    "def generate_random_coupon():\n",
    "    title = fake.word().capitalize()\n",
    "    company = fake.company()\n",
    "    category = random.choice([\"Food\", \"Electronics\", \"Fashion\", \"Health\", \"Beauty\"])\n",
    "    expire_date = fake.date_between(start_date=\"now\", end_date=\"+1y\")\n",
    "    use_date = fake.date_between(start_date=\"-1y\", end_date=\"now\") if random.choice([True, False]) else None\n",
    "    is_used = use_date is not None\n",
    "    description = fake.sentence()\n",
    "    code = fake.bothify(text='?????-###')\n",
    "    original_text = f\"{description} Use code: {code}\"\n",
    "    bought_from = fake.company()\n",
    "\n",
    "    return {\n",
    "        \"Title\": title,\n",
    "        \"Company\": company,\n",
    "        \"Category\": category,\n",
    "        \"Expire_Date\": expire_date,\n",
    "        \"Use_Date\": use_date,\n",
    "        \"Is_Used\": is_used,\n",
    "        \"Description\": description,\n",
    "        \"Code\": code,\n",
    "        \"Original_Text\": original_text,\n",
    "        \"Bought_From\": bought_from\n",
    "    }"
   ]
  },
  {
   "cell_type": "code",
   "execution_count": 30,
   "id": "8243610c",
   "metadata": {},
   "outputs": [],
   "source": [
    "# Generate a list of 5 random coupons\n",
    "random_coupons = [generate_random_coupon() for _ in range(5)]\n",
    "\n",
    "# Example user document with random coupons\n",
    "user_document = {\n",
    "    \"User\": fake.user_name(),\n",
    "    \"Coupons\": random_coupons\n",
    "}"
   ]
  },
  {
   "cell_type": "code",
   "execution_count": 31,
   "id": "a3e19e08",
   "metadata": {},
   "outputs": [
    {
     "data": {
      "text/plain": [
       "{'User': 'qroberts',\n",
       " 'Coupons': [{'Title': 'Entire',\n",
       "   'Company': 'Matthews, Keller and Weber',\n",
       "   'Category': 'Beauty',\n",
       "   'Expire_Date': datetime.date(2024, 12, 24),\n",
       "   'Use_Date': datetime.date(2023, 10, 13),\n",
       "   'Is_Used': True,\n",
       "   'Description': 'Sport south card affect tough toward adult.',\n",
       "   'Code': 'cbNcl-658',\n",
       "   'Original_Text': 'Sport south card affect tough toward adult. Use code: cbNcl-658',\n",
       "   'Bought_From': 'Ramirez, Golden and Olson'},\n",
       "  {'Title': 'I',\n",
       "   'Company': 'Smith, Nolan and Greer',\n",
       "   'Category': 'Food',\n",
       "   'Expire_Date': datetime.date(2025, 4, 18),\n",
       "   'Use_Date': None,\n",
       "   'Is_Used': False,\n",
       "   'Description': 'Glass truth center.',\n",
       "   'Code': 'GhTJw-958',\n",
       "   'Original_Text': 'Glass truth center. Use code: GhTJw-958',\n",
       "   'Bought_From': 'Morris, Hernandez and Aguirre'},\n",
       "  {'Title': 'Fund',\n",
       "   'Company': 'Jackson, Bell and Kennedy',\n",
       "   'Category': 'Electronics',\n",
       "   'Expire_Date': datetime.date(2024, 6, 18),\n",
       "   'Use_Date': None,\n",
       "   'Is_Used': False,\n",
       "   'Description': 'Tell realize require natural court police.',\n",
       "   'Code': 'jyaSH-436',\n",
       "   'Original_Text': 'Tell realize require natural court police. Use code: jyaSH-436',\n",
       "   'Bought_From': 'Jackson-Green'},\n",
       "  {'Title': 'Deep',\n",
       "   'Company': 'Owens PLC',\n",
       "   'Category': 'Beauty',\n",
       "   'Expire_Date': datetime.date(2025, 3, 3),\n",
       "   'Use_Date': datetime.date(2024, 3, 12),\n",
       "   'Is_Used': True,\n",
       "   'Description': 'East consider dark sure since.',\n",
       "   'Code': 'IHxsp-506',\n",
       "   'Original_Text': 'East consider dark sure since. Use code: IHxsp-506',\n",
       "   'Bought_From': 'Watson-Todd'},\n",
       "  {'Title': 'Place',\n",
       "   'Company': 'Deleon PLC',\n",
       "   'Category': 'Food',\n",
       "   'Expire_Date': datetime.date(2025, 1, 16),\n",
       "   'Use_Date': None,\n",
       "   'Is_Used': False,\n",
       "   'Description': 'Memory bag end age street good.',\n",
       "   'Code': 'VJncu-419',\n",
       "   'Original_Text': 'Memory bag end age street good. Use code: VJncu-419',\n",
       "   'Bought_From': 'Dougherty-Beard'}]}"
      ]
     },
     "execution_count": 31,
     "metadata": {},
     "output_type": "execute_result"
    }
   ],
   "source": [
    "user_document"
   ]
  },
  {
   "cell_type": "code",
   "execution_count": null,
   "id": "8a56f628",
   "metadata": {},
   "outputs": [],
   "source": []
  }
 ],
 "metadata": {
  "kernelspec": {
   "display_name": "Python 3 (ipykernel)",
   "language": "python",
   "name": "python3"
  },
  "language_info": {
   "codemirror_mode": {
    "name": "ipython",
    "version": 3
   },
   "file_extension": ".py",
   "mimetype": "text/x-python",
   "name": "python",
   "nbconvert_exporter": "python",
   "pygments_lexer": "ipython3",
   "version": "3.10.7"
  }
 },
 "nbformat": 4,
 "nbformat_minor": 5
}
